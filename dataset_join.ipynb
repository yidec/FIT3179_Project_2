{
 "cells": [
  {
   "cell_type": "code",
   "execution_count": 1,
   "id": "2cadd79b",
   "metadata": {},
   "outputs": [],
   "source": [
    "import pandas as pd"
   ]
  },
  {
   "cell_type": "code",
   "execution_count": 2,
   "id": "c4571d55",
   "metadata": {},
   "outputs": [],
   "source": [
    "cc = pd.read_csv('data/Continent_data.csv')\n",
    "leo = pd.read_csv('data/Human_life_Expectancy_old.csv')"
   ]
  },
  {
   "cell_type": "code",
   "execution_count": 3,
   "id": "92d49b2b",
   "metadata": {},
   "outputs": [],
   "source": [
    "nle = leo[leo.Level == \"National\"]"
   ]
  },
  {
   "cell_type": "code",
   "execution_count": 4,
   "id": "8631b271",
   "metadata": {},
   "outputs": [],
   "source": [
    "nle.to_csv('data/Country_life_Expectancy.csv', index=False)"
   ]
  },
  {
   "cell_type": "code",
   "execution_count": 5,
   "id": "cbcee29b",
   "metadata": {},
   "outputs": [],
   "source": [
    "result = pd.merge(nle, \n",
    "                  cc[['alpha-3', 'region']],\n",
    "                  left_on='Country_Code',\n",
    "                  right_on='region',\n",
    "                  how='left')"
   ]
  },
  {
   "cell_type": "code",
   "execution_count": 6,
   "id": "9cb2bb78",
   "metadata": {},
   "outputs": [],
   "source": [
    "result = result.drop(['alpha-3'], axis=1)"
   ]
  },
  {
   "cell_type": "code",
   "execution_count": 10,
   "id": "51c483e6",
   "metadata": {},
   "outputs": [],
   "source": [
    "result.to_csv('data/Compliled_Life_Expectancy.csv', index=False)"
   ]
  }
 ],
 "metadata": {
  "kernelspec": {
   "display_name": "Python 3 (ipykernel)",
   "language": "python",
   "name": "python3"
  },
  "language_info": {
   "codemirror_mode": {
    "name": "ipython",
    "version": 3
   },
   "file_extension": ".py",
   "mimetype": "text/x-python",
   "name": "python",
   "nbconvert_exporter": "python",
   "pygments_lexer": "ipython3",
   "version": "3.9.7"
  }
 },
 "nbformat": 4,
 "nbformat_minor": 5
}
